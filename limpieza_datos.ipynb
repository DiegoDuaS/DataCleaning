{
 "cells": [
  {
   "cell_type": "markdown",
   "id": "851e0a3a",
   "metadata": {},
   "source": [
    "# Limpieza datos educativos"
   ]
  },
  {
   "cell_type": "code",
   "execution_count": 1,
   "id": "5dc44e22",
   "metadata": {},
   "outputs": [],
   "source": [
    "import pandas as pd\n",
    "import os\n",
    "import re"
   ]
  },
  {
   "cell_type": "code",
   "execution_count": 2,
   "id": "5f3280fe",
   "metadata": {},
   "outputs": [
    {
     "name": "stdout",
     "output_type": "stream",
     "text": [
      "Cantidad de registros: 112319\n"
     ]
    }
   ],
   "source": [
    "# Cargar el CSV\n",
    "df = pd.read_csv('republica.csv')\n",
    "print(f\"Cantidad de registros: {df.size}\")"
   ]
  },
  {
   "cell_type": "markdown",
   "id": "cb43f394",
   "metadata": {},
   "source": [
    "# Filtro\n",
    "Enfocado en los valores de establecimiento"
   ]
  },
  {
   "cell_type": "code",
   "execution_count": 3,
   "id": "2db81fda",
   "metadata": {},
   "outputs": [],
   "source": [
    "# Función para limpiar nombres\n",
    "def normalize_name(name):\n",
    "    if pd.isnull(name):\n",
    "        return None  # Cambia \"\" por None para que se pueda filtrar luego\n",
    "    name = str(name).upper()\n",
    "    name = re.sub(r'[\\s\\-]+', ' ', name)  # reemplaza múltiples espacios o guiones por un solo espacio\n",
    "    name = name.strip()\n",
    "    name = re.sub(r'[^\\x00-\\x7F]+', '', name)  # elimina caracteres no ASCII (invisibles)\n",
    "    name = name.replace('\"', ' ').strip()\n",
    "    name = name.replace('  ', ' ').strip().replace(' -', '-').replace('- ', '-')\n",
    "    return name\n",
    "\n",
    "# Aplicar limpieza\n",
    "df[\"ESTABLECIMIENTO_CLEAN\"] = df[\"ESTABLECIMIENTO\"].apply(normalize_name)\n",
    "df[\"ESTABLECIMIENTO_VARIANTES\"] = df[\"ESTABLECIMIENTO\"]\n",
    "\n",
    "# Eliminar filas donde el nombre limpio es None\n",
    "df = df[df[\"ESTABLECIMIENTO_CLEAN\"].notna()]\n",
    "\n",
    "# Agrupar por nombre limpio y juntar resto en sets\n",
    "def group_sets(col):\n",
    "    return list(set(col.dropna()))\n",
    "\n",
    "grouped1 = df.groupby(\"ESTABLECIMIENTO_CLEAN\").agg(group_sets).reset_index()\n",
    "grouped1 = grouped1.drop(columns=[\"ESTABLECIMIENTO\"])\n",
    "\n",
    "# Guardar resultado\n",
    "grouped1.to_csv('limpio.csv', index=False)"
   ]
  },
  {
   "cell_type": "code",
   "execution_count": 4,
   "id": "7601226f",
   "metadata": {},
   "outputs": [
    {
     "name": "stdout",
     "output_type": "stream",
     "text": [
      "Cantidad de registros: 63558\n"
     ]
    }
   ],
   "source": [
    "print(f\"Cantidad de registros: {grouped1.size}\")"
   ]
  },
  {
   "cell_type": "markdown",
   "id": "cd2cf0a6",
   "metadata": {},
   "source": [
    "## Filtro 2\n",
    "Revisión de caracteres extra"
   ]
  },
  {
   "cell_type": "code",
   "execution_count": 5,
   "id": "1bccb2be",
   "metadata": {},
   "outputs": [],
   "source": [
    "def group_strings(col):\n",
    "    flattened = []\n",
    "    for item in col.dropna():\n",
    "        # Si el item es string que parece una lista, intenta parsearlo\n",
    "        if isinstance(item, str) and item.startswith(\"[\") and item.endswith(\"]\"):\n",
    "            try:\n",
    "                import ast\n",
    "                parsed = ast.literal_eval(item)\n",
    "                if isinstance(parsed, list):\n",
    "                    flattened.extend(parsed)\n",
    "                else:\n",
    "                    flattened.append(str(parsed))\n",
    "            except:\n",
    "                flattened.append(str(item))\n",
    "        # Si ya es lista, extiende\n",
    "        elif isinstance(item, list):\n",
    "            flattened.extend(item)\n",
    "        else:\n",
    "            flattened.append(str(item))\n",
    "\n",
    "    # Convertir todo a string y eliminar duplicados\n",
    "    return \", \".join(sorted(set(str(i).strip() for i in flattened)))"
   ]
  },
  {
   "cell_type": "code",
   "execution_count": 6,
   "id": "e9a6b5ab",
   "metadata": {},
   "outputs": [],
   "source": [
    "from rapidfuzz import fuzz, process\n",
    "\n",
    "df = pd.read_csv('limpio.csv')\n",
    "\n",
    "# Agrupación fuzzy\n",
    "unique_names = df[\"ESTABLECIMIENTO_CLEAN\"].unique()\n",
    "name_map = {}\n",
    "visited = set()\n",
    "\n",
    "for name in unique_names:\n",
    "    if name in visited:\n",
    "        continue\n",
    "    # Buscar similares (umbral de similitud >= 90)\n",
    "    matches = process.extract(name, unique_names, scorer=fuzz.token_sort_ratio, limit=None)\n",
    "    group = [match for match, score, _ in matches if score >= 90]\n",
    "    for g in group:\n",
    "        name_map[g] = name  # agrupar bajo el nombre base\n",
    "        visited.add(g)\n",
    "\n",
    "# Reemplazar por nombre base en el DataFrame\n",
    "df[\"ESTABLECIMIENTO\"] = df[\"ESTABLECIMIENTO_CLEAN\"].map(name_map)\n",
    "\n",
    "grouped = df.groupby(\"ESTABLECIMIENTO\").agg(group_strings).reset_index()\n",
    "\n",
    "# Eliminar columnas que ya no necesitas\n",
    "grouped = grouped.drop(columns=[\"ESTABLECIMIENTO_CLEAN\"])\n",
    "\n",
    "# Guardar\n",
    "grouped.to_csv(\"establecimientos_fuzzy.csv\", index=False)\n"
   ]
  },
  {
   "cell_type": "code",
   "execution_count": 7,
   "id": "0f9965e7",
   "metadata": {},
   "outputs": [
    {
     "name": "stdout",
     "output_type": "stream",
     "text": [
      "Cantidad de registros: 51408\n"
     ]
    }
   ],
   "source": [
    "print(f\"Cantidad de registros: {grouped.size}\")"
   ]
  }
 ],
 "metadata": {
  "kernelspec": {
   "display_name": "Python 3",
   "language": "python",
   "name": "python3"
  },
  "language_info": {
   "codemirror_mode": {
    "name": "ipython",
    "version": 3
   },
   "file_extension": ".py",
   "mimetype": "text/x-python",
   "name": "python",
   "nbconvert_exporter": "python",
   "pygments_lexer": "ipython3",
   "version": "3.12.5"
  }
 },
 "nbformat": 4,
 "nbformat_minor": 5
}
