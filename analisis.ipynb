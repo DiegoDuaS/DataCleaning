{
 "cells": [
  {
   "cell_type": "markdown",
   "id": "eaac5a56",
   "metadata": {},
   "source": [
    "### Proyecto 1 Analisis Inicial\n"
   ]
  },
  {
   "cell_type": "code",
   "execution_count": 2,
   "id": "220c06b4",
   "metadata": {},
   "outputs": [
    {
     "name": "stdout",
     "output_type": "stream",
     "text": [
      "DESCRIPCIÓN DEL CONJUNTO UNIFICADO\n",
      "Total de filas (registros): 6607\n",
      "Total de variables (columnas): 17\n",
      "\n",
      " Nombres de las variables:\n",
      "- CODIGO\n",
      "- DISTRITO\n",
      "- DEPARTAMENTO\n",
      "- MUNICIPIO\n",
      "- ESTABLECIMIENTO\n",
      "- DIRECCION\n",
      "- TELEFONO\n",
      "- SUPERVISOR\n",
      "- DIRECTOR\n",
      "- NIVEL\n",
      "- SECTOR\n",
      "- AREA\n",
      "- STATUS\n",
      "- MODALIDAD\n",
      "- JORNADA\n",
      "- PLAN\n",
      "- DEPARTAMENTAL\n"
     ]
    }
   ],
   "source": [
    "import pandas as pd\n",
    "\n",
    "# Leer el conjunto final\n",
    "df = pd.read_csv(\"republica.csv\", encoding=\"latin1\", dtype=str)\n",
    "\n",
    "# Mostrar descripción básica\n",
    "print(\"DESCRIPCIÓN DEL CONJUNTO UNIFICADO\")\n",
    "print(f\"Total de filas (registros): {df.shape[0]}\")\n",
    "print(f\"Total de variables (columnas): {df.shape[1]}\")\n",
    "\n",
    "# Mostrar nombres de columnas\n",
    "print(\"\\n Nombres de las variables:\")\n",
    "for col in df.columns:\n",
    "    print(\"-\", col)\n"
   ]
  },
  {
   "cell_type": "code",
   "execution_count": 4,
   "id": "dfeb2805",
   "metadata": {},
   "outputs": [
    {
     "name": "stdout",
     "output_type": "stream",
     "text": [
      "\n",
      "==================================================\n",
      "ANÁLISIS DE DATOS FALTANTES\n",
      "==================================================\n",
      "\n",
      "Columnas con datos faltantes (17 de 17):\n",
      "------------------------------------------------------------\n",
      "TELEFONO                             53 (  0.80%)\n",
      "DIRECTOR                             33 (  0.50%)\n",
      "DIRECCION                             9 (  0.14%)\n",
      "SECTOR                                7 (  0.11%)\n",
      "PLAN                                  7 (  0.11%)\n",
      "JORNADA                               7 (  0.11%)\n",
      "MODALIDAD                             7 (  0.11%)\n",
      "STATUS                                7 (  0.11%)\n",
      "AREA                                  7 (  0.11%)\n",
      "CODIGO                                7 (  0.11%)\n",
      "NIVEL                                 7 (  0.11%)\n",
      "DISTRITO                              7 (  0.11%)\n",
      "SUPERVISOR                            7 (  0.11%)\n",
      "ESTABLECIMIENTO                       7 (  0.11%)\n",
      "MUNICIPIO                             7 (  0.11%)\n",
      "DEPARTAMENTO                          7 (  0.11%)\n",
      "DEPARTAMENTAL                         7 (  0.11%)\n",
      "\n",
      "RESUMEN GENERAL:\n",
      "Total de celdas: 112,319\n",
      "Total de celdas vacías: 193\n",
      "Porcentaje general de datos faltantes: 0.17%\n"
     ]
    }
   ],
   "source": [
    "# ANÁLISIS DE DATOS FALTANTES\n",
    "print(\"\\n\" + \"=\"*50)\n",
    "print(\"ANÁLISIS DE DATOS FALTANTES\")\n",
    "print(\"=\"*50)\n",
    "\n",
    "# Contar valores faltantes por columna\n",
    "missing_data = df.isnull().sum()\n",
    "\n",
    "# Calcular porcentaje de datos faltantes\n",
    "missing_percentage = (missing_data / len(df)) * 100\n",
    "\n",
    "# Crear DataFrame con la información de datos faltantes\n",
    "missing_info = pd.DataFrame({\n",
    "    'Columna': missing_data.index,\n",
    "    'Datos_Faltantes': missing_data.values,\n",
    "    'Porcentaje_Faltante': missing_percentage.values\n",
    "})\n",
    "\n",
    "# Ordenar por cantidad de datos faltantes (descendente)\n",
    "missing_info = missing_info.sort_values('Datos_Faltantes', ascending=False)\n",
    "\n",
    "# Mostrar solo las columnas que tienen datos faltantes\n",
    "columnas_con_faltantes = missing_info[missing_info['Datos_Faltantes'] > 0]\n",
    "\n",
    "if len(columnas_con_faltantes) > 0:\n",
    "    print(f\"\\nColumnas con datos faltantes ({len(columnas_con_faltantes)} de {len(df.columns)}):\")\n",
    "    print(\"-\" * 60)\n",
    "    for _, row in columnas_con_faltantes.iterrows():\n",
    "        print(f\"{row['Columna']:<30} {row['Datos_Faltantes']:>8} ({row['Porcentaje_Faltante']:>6.2f}%)\")\n",
    "\n",
    "else:\n",
    "    print(\"\\n¡Excelente! No hay datos faltantes en ninguna columna.\")\n",
    "\n",
    "# Resumen general\n",
    "total_missing = missing_data.sum()\n",
    "total_cells = df.shape[0] * df.shape[1]\n",
    "overall_missing_rate = (total_missing / total_cells) * 100\n",
    "\n",
    "print(f\"\\nRESUMEN GENERAL:\")\n",
    "print(f\"Total de celdas: {total_cells:,}\")\n",
    "print(f\"Total de celdas vacías: {total_missing:,}\")\n",
    "print(f\"Porcentaje general de datos faltantes: {overall_missing_rate:.2f}%\")"
   ]
  }
 ],
 "metadata": {
  "kernelspec": {
   "display_name": "Python 3",
   "language": "python",
   "name": "python3"
  },
  "language_info": {
   "codemirror_mode": {
    "name": "ipython",
    "version": 3
   },
   "file_extension": ".py",
   "mimetype": "text/x-python",
   "name": "python",
   "nbconvert_exporter": "python",
   "pygments_lexer": "ipython3",
   "version": "3.10.2"
  }
 },
 "nbformat": 4,
 "nbformat_minor": 5
}
