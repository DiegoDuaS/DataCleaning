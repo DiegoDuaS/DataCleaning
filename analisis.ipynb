{
 "cells": [
  {
   "cell_type": "markdown",
   "id": "eaac5a56",
   "metadata": {},
   "source": [
    "### Proyecto 1 Analisis Inicial\n"
   ]
  },
  {
   "cell_type": "code",
   "execution_count": 4,
   "id": "220c06b4",
   "metadata": {},
   "outputs": [
    {
     "name": "stdout",
     "output_type": "stream",
     "text": [
      "DESCRIPCIÓN DEL CONJUNTO UNIFICADO\n",
      "Total de filas (registros): 6607\n",
      "Total de variables (columnas): 17\n",
      "\n",
      " Nombres de las variables:\n",
      "- CODIGO\n",
      "- DISTRITO\n",
      "- DEPARTAMENTO\n",
      "- MUNICIPIO\n",
      "- ESTABLECIMIENTO\n",
      "- DIRECCION\n",
      "- TELEFONO\n",
      "- SUPERVISOR\n",
      "- DIRECTOR\n",
      "- NIVEL\n",
      "- SECTOR\n",
      "- AREA\n",
      "- STATUS\n",
      "- MODALIDAD\n",
      "- JORNADA\n",
      "- PLAN\n",
      "- DEPARTAMENTAL\n"
     ]
    }
   ],
   "source": [
    "import pandas as pd\n",
    "\n",
    "# Leer el conjunto final\n",
    "df = pd.read_csv(\"republica.csv\", encoding=\"latin1\", dtype=str)\n",
    "\n",
    "# Mostrar descripción básica\n",
    "print(\"DESCRIPCIÓN DEL CONJUNTO UNIFICADO\")\n",
    "print(f\"Total de filas (registros): {df.shape[0]}\")\n",
    "print(f\"Total de variables (columnas): {df.shape[1]}\")\n",
    "\n",
    "# Mostrar nombres de columnas\n",
    "print(\"\\n Nombres de las variables:\")\n",
    "for col in df.columns:\n",
    "    print(\"-\", col)\n"
   ]
  }
 ],
 "metadata": {
  "kernelspec": {
   "display_name": "Python 3",
   "language": "python",
   "name": "python3"
  },
  "language_info": {
   "codemirror_mode": {
    "name": "ipython",
    "version": 3
   },
   "file_extension": ".py",
   "mimetype": "text/x-python",
   "name": "python",
   "nbconvert_exporter": "python",
   "pygments_lexer": "ipython3",
   "version": "3.11.4"
  }
 },
 "nbformat": 4,
 "nbformat_minor": 5
}
